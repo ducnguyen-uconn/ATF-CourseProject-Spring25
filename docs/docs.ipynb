{
 "cells": [
  {
   "cell_type": "markdown",
   "metadata": {},
   "source": [
    "# Course project of Advanced Thermo-Fluid I @ UConn Spring 2025\n",
    "Reference: Beneitez et al. [2024](Beneitez_2024_polymer_channel_flows.pdf) Transition route to elastic and elasto-inertial turbulence in polymer channel flows. PHYSICAL REVIEW FLUIDS 9, 123302\n",
    "\n",
    "Governing equations of viscoelatic channel flows are:\n",
    "\\begin{align*}\n",
    "    \\nabla \\cdot \\mathbf{u} &= 0,\\\\\n",
    "    Re(\\partial_t \\mathbf{u} + \\mathbf{u} \\cdot \\nabla \\mathbf{u}) + \\nabla p &= \\beta \\nabla^2  \\mathbf{u} + (1 - \\beta) \\nabla \\cdot \\mathbf{T}(\\mathbf{C}),\\\\\n",
    "    \\partial_t \\mathbf{C} + \\mathbf{u} \\cdot \\nabla \\mathbf{C} + \\mathbf{T(C)} &= \\mathbf{C} \\cdot \\nabla \\mathbf{u} + (\\nabla \\mathbf{u})^T \\cdot \\mathbf{C} + \\varepsilon \\Delta \\mathbf{C},\n",
    "\\end{align*}\n",
    "with \n",
    "$$\\mathbf{T}(\\mathbf{C}) := \\frac{1}{\\text{Wi}} \\left( \\frac{\\mathbf{C}}{1 - (\\text{tr}(\\mathbf{C}) - 3) / L^2_{\\max}} - \\mathbf{I} \\right),$$\n",
    "\n",
    "#"
   ]
  },
  {
   "cell_type": "markdown",
   "metadata": {},
   "source": [
    "where:\n",
    "- $\\mathbf{u}$: velocity\n",
    "- $\\mathbf{C}$: conformation tensor\n",
    "- $Re:=U_b h/\\nu$: Reynolds number\n",
    "- $Wi:=\\tau U_b / h$: Weissenberg number, where $\\tau$ is the polymer relaxation time\n",
    "- $\\varepsilon:= D/U_b h$: dimensionless polymer stress diffusivity\n",
    "- $p$: pressure\n",
    "- $\\beta:=\\nu_s/\\nu$: ratio of kinematic viscosities, where νs and νp = ν − νs are the solvent and polymer contributions respectively\n",
    "- $L_{max}$: maximum extensibility of the polymer chains"
   ]
  }
 ],
 "metadata": {
  "language_info": {
   "name": "python"
  }
 },
 "nbformat": 4,
 "nbformat_minor": 2
}
